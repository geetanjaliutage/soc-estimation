{
  "nbformat": 4,
  "nbformat_minor": 0,
  "metadata": {
    "kernelspec": {
      "display_name": "Python 3",
      "language": "python",
      "name": "python3"
    },
    "language_info": {
      "codemirror_mode": {
        "name": "ipython",
        "version": 3
      },
      "file_extension": ".py",
      "mimetype": "text/x-python",
      "name": "python",
      "nbconvert_exporter": "python",
      "pygments_lexer": "ipython3",
      "version": "3.8.5"
    },
    "colab": {
      "name": "Ml Analysis of Battery capacity for an electric vehicle.ipynb",
      "provenance": []
    }
  },
  "cells": [
    {
      "cell_type": "markdown",
      "metadata": {
        "id": "d5SavGbJ49BV"
      },
      "source": [
        "<h1>Importing Libraries</h1>"
      ]
    },
    {
      "cell_type": "code",
      "metadata": {
        "id": "HVOO2AE349Ba"
      },
      "source": [
        "import pandas as pd\n",
        "import numpy as np\n",
        "import matplotlib.pyplot as plt\n",
        "import seaborn as sns\n",
        "%matplotlib inline\n",
        "\n",
        "from sklearn.linear_model import LinearRegression\n",
        "from sklearn.ensemble import RandomForestRegressor\n",
        "from sklearn import svm\n",
        "from sklearn.tree import DecisionTreeRegressor\n",
        "from sklearn.model_selection import train_test_split\n",
        "from sklearn.metrics import mean_squared_error"
      ],
      "execution_count": null,
      "outputs": []
    },
    {
      "cell_type": "markdown",
      "metadata": {
        "id": "I8IZxPNG49Bd"
      },
      "source": [
        "<h1>Loading Data</h1>"
      ]
    },
    {
      "cell_type": "code",
      "metadata": {
        "id": "6RA9kGZ449Be"
      },
      "source": [
        "data = pd.read_csv(\"btptablr.csv\")"
      ],
      "execution_count": null,
      "outputs": []
    },
    {
      "cell_type": "code",
      "metadata": {
        "colab": {
          "base_uri": "https://localhost:8080/",
          "height": 204
        },
        "id": "15O658Qq49Bf",
        "outputId": "6694dffc-2c45-4ff8-d517-3892b84d8af7"
      },
      "source": [
        "data.head()"
      ],
      "execution_count": null,
      "outputs": [
        {
          "output_type": "execute_result",
          "data": {
            "text/html": [
              "<div>\n",
              "<style scoped>\n",
              "    .dataframe tbody tr th:only-of-type {\n",
              "        vertical-align: middle;\n",
              "    }\n",
              "\n",
              "    .dataframe tbody tr th {\n",
              "        vertical-align: top;\n",
              "    }\n",
              "\n",
              "    .dataframe thead th {\n",
              "        text-align: right;\n",
              "    }\n",
              "</style>\n",
              "<table border=\"1\" class=\"dataframe\">\n",
              "  <thead>\n",
              "    <tr style=\"text-align: right;\">\n",
              "      <th></th>\n",
              "      <th>load</th>\n",
              "      <th>stress</th>\n",
              "      <th>discharge</th>\n",
              "      <th>charge</th>\n",
              "      <th>capacity</th>\n",
              "    </tr>\n",
              "  </thead>\n",
              "  <tbody>\n",
              "    <tr>\n",
              "      <th>0</th>\n",
              "      <td>3</td>\n",
              "      <td>5.175</td>\n",
              "      <td>3.433</td>\n",
              "      <td>4.173</td>\n",
              "      <td>2.475</td>\n",
              "    </tr>\n",
              "    <tr>\n",
              "      <th>1</th>\n",
              "      <td>3</td>\n",
              "      <td>5.233</td>\n",
              "      <td>3.437</td>\n",
              "      <td>4.172</td>\n",
              "      <td>2.478</td>\n",
              "    </tr>\n",
              "    <tr>\n",
              "      <th>2</th>\n",
              "      <td>3</td>\n",
              "      <td>5.283</td>\n",
              "      <td>3.430</td>\n",
              "      <td>4.176</td>\n",
              "      <td>2.480</td>\n",
              "    </tr>\n",
              "    <tr>\n",
              "      <th>3</th>\n",
              "      <td>3</td>\n",
              "      <td>5.312</td>\n",
              "      <td>3.435</td>\n",
              "      <td>4.177</td>\n",
              "      <td>2.477</td>\n",
              "    </tr>\n",
              "    <tr>\n",
              "      <th>4</th>\n",
              "      <td>3</td>\n",
              "      <td>5.358</td>\n",
              "      <td>3.434</td>\n",
              "      <td>4.175</td>\n",
              "      <td>2.468</td>\n",
              "    </tr>\n",
              "  </tbody>\n",
              "</table>\n",
              "</div>"
            ],
            "text/plain": [
              "   load  stress  discharge  charge  capacity\n",
              "0     3   5.175      3.433   4.173     2.475\n",
              "1     3   5.233      3.437   4.172     2.478\n",
              "2     3   5.283      3.430   4.176     2.480\n",
              "3     3   5.312      3.435   4.177     2.477\n",
              "4     3   5.358      3.434   4.175     2.468"
            ]
          },
          "metadata": {
            "tags": []
          },
          "execution_count": 3
        }
      ]
    },
    {
      "cell_type": "code",
      "metadata": {
        "colab": {
          "base_uri": "https://localhost:8080/"
        },
        "id": "7kSSFMec49Bg",
        "outputId": "e9ab6047-498b-43ca-ff55-86e43ad626b9"
      },
      "source": [
        "data.info()"
      ],
      "execution_count": null,
      "outputs": [
        {
          "output_type": "stream",
          "text": [
            "<class 'pandas.core.frame.DataFrame'>\n",
            "RangeIndex: 413 entries, 0 to 412\n",
            "Data columns (total 5 columns):\n",
            " #   Column     Non-Null Count  Dtype  \n",
            "---  ------     --------------  -----  \n",
            " 0   load       413 non-null    int64  \n",
            " 1   stress     413 non-null    float64\n",
            " 2   discharge  413 non-null    float64\n",
            " 3   charge     413 non-null    float64\n",
            " 4   capacity   413 non-null    float64\n",
            "dtypes: float64(4), int64(1)\n",
            "memory usage: 16.3 KB\n"
          ],
          "name": "stdout"
        }
      ]
    },
    {
      "cell_type": "code",
      "metadata": {
        "colab": {
          "base_uri": "https://localhost:8080/",
          "height": 297
        },
        "id": "rAXKJpDO49Bh",
        "outputId": "35c44e9c-68eb-46ad-f533-2f2b1320d358"
      },
      "source": [
        "data.describe()"
      ],
      "execution_count": null,
      "outputs": [
        {
          "output_type": "execute_result",
          "data": {
            "text/html": [
              "<div>\n",
              "<style scoped>\n",
              "    .dataframe tbody tr th:only-of-type {\n",
              "        vertical-align: middle;\n",
              "    }\n",
              "\n",
              "    .dataframe tbody tr th {\n",
              "        vertical-align: top;\n",
              "    }\n",
              "\n",
              "    .dataframe thead th {\n",
              "        text-align: right;\n",
              "    }\n",
              "</style>\n",
              "<table border=\"1\" class=\"dataframe\">\n",
              "  <thead>\n",
              "    <tr style=\"text-align: right;\">\n",
              "      <th></th>\n",
              "      <th>load</th>\n",
              "      <th>stress</th>\n",
              "      <th>discharge</th>\n",
              "      <th>charge</th>\n",
              "      <th>capacity</th>\n",
              "    </tr>\n",
              "  </thead>\n",
              "  <tbody>\n",
              "    <tr>\n",
              "      <th>count</th>\n",
              "      <td>413.000000</td>\n",
              "      <td>413.000000</td>\n",
              "      <td>413.000000</td>\n",
              "      <td>413.000000</td>\n",
              "      <td>413.000000</td>\n",
              "    </tr>\n",
              "    <tr>\n",
              "      <th>mean</th>\n",
              "      <td>6.196126</td>\n",
              "      <td>8.466172</td>\n",
              "      <td>3.428385</td>\n",
              "      <td>4.180809</td>\n",
              "      <td>2.496254</td>\n",
              "    </tr>\n",
              "    <tr>\n",
              "      <th>std</th>\n",
              "      <td>2.397973</td>\n",
              "      <td>1.970751</td>\n",
              "      <td>0.005383</td>\n",
              "      <td>0.002620</td>\n",
              "      <td>0.036891</td>\n",
              "    </tr>\n",
              "    <tr>\n",
              "      <th>min</th>\n",
              "      <td>3.000000</td>\n",
              "      <td>5.175000</td>\n",
              "      <td>3.415000</td>\n",
              "      <td>4.169000</td>\n",
              "      <td>2.403000</td>\n",
              "    </tr>\n",
              "    <tr>\n",
              "      <th>25%</th>\n",
              "      <td>3.000000</td>\n",
              "      <td>5.892000</td>\n",
              "      <td>3.424000</td>\n",
              "      <td>4.179000</td>\n",
              "      <td>2.472000</td>\n",
              "    </tr>\n",
              "    <tr>\n",
              "      <th>50%</th>\n",
              "      <td>6.000000</td>\n",
              "      <td>8.476000</td>\n",
              "      <td>3.427000</td>\n",
              "      <td>4.181000</td>\n",
              "      <td>2.501000</td>\n",
              "    </tr>\n",
              "    <tr>\n",
              "      <th>75%</th>\n",
              "      <td>9.000000</td>\n",
              "      <td>10.612000</td>\n",
              "      <td>3.433000</td>\n",
              "      <td>4.182000</td>\n",
              "      <td>2.523000</td>\n",
              "    </tr>\n",
              "    <tr>\n",
              "      <th>max</th>\n",
              "      <td>9.000000</td>\n",
              "      <td>10.855000</td>\n",
              "      <td>3.442000</td>\n",
              "      <td>4.199000</td>\n",
              "      <td>2.580000</td>\n",
              "    </tr>\n",
              "  </tbody>\n",
              "</table>\n",
              "</div>"
            ],
            "text/plain": [
              "             load      stress   discharge      charge    capacity\n",
              "count  413.000000  413.000000  413.000000  413.000000  413.000000\n",
              "mean     6.196126    8.466172    3.428385    4.180809    2.496254\n",
              "std      2.397973    1.970751    0.005383    0.002620    0.036891\n",
              "min      3.000000    5.175000    3.415000    4.169000    2.403000\n",
              "25%      3.000000    5.892000    3.424000    4.179000    2.472000\n",
              "50%      6.000000    8.476000    3.427000    4.181000    2.501000\n",
              "75%      9.000000   10.612000    3.433000    4.182000    2.523000\n",
              "max      9.000000   10.855000    3.442000    4.199000    2.580000"
            ]
          },
          "metadata": {
            "tags": []
          },
          "execution_count": 5
        }
      ]
    },
    {
      "cell_type": "code",
      "metadata": {
        "colab": {
          "base_uri": "https://localhost:8080/"
        },
        "id": "STJc7jmE49Bi",
        "outputId": "78eb87d6-1e8d-42e8-c6ea-c6f13c277982"
      },
      "source": [
        "data.isnull().sum()"
      ],
      "execution_count": null,
      "outputs": [
        {
          "output_type": "execute_result",
          "data": {
            "text/plain": [
              "load         0\n",
              "stress       0\n",
              "discharge    0\n",
              "charge       0\n",
              "capacity     0\n",
              "dtype: int64"
            ]
          },
          "metadata": {
            "tags": []
          },
          "execution_count": 6
        }
      ]
    },
    {
      "cell_type": "code",
      "metadata": {
        "colab": {
          "base_uri": "https://localhost:8080/"
        },
        "id": "IyZAdFb_49Bj",
        "outputId": "bc62b3de-f623-4e41-ac5f-4f73e8a3416b"
      },
      "source": [
        "data.load.unique()"
      ],
      "execution_count": null,
      "outputs": [
        {
          "output_type": "execute_result",
          "data": {
            "text/plain": [
              "array([3, 6, 9])"
            ]
          },
          "metadata": {
            "tags": []
          },
          "execution_count": 7
        }
      ]
    },
    {
      "cell_type": "markdown",
      "metadata": {
        "id": "OdBilnDy49Bk"
      },
      "source": [
        "## **bold text**<h3>Data labels we are having are not unique or discrete so we will use regression model to train and test our data.</h3>"
      ]
    },
    {
      "cell_type": "markdown",
      "metadata": {
        "id": "bZU4gyKe49Bk"
      },
      "source": [
        "<h1>Data Correlation</h1>"
      ]
    },
    {
      "cell_type": "code",
      "metadata": {
        "colab": {
          "base_uri": "https://localhost:8080/",
          "height": 204
        },
        "id": "-8nBk__c49Bl",
        "outputId": "998aae6c-7895-4e71-99ec-342cc3e6439b"
      },
      "source": [
        "data.corr(method=\"pearson\")"
      ],
      "execution_count": null,
      "outputs": [
        {
          "output_type": "execute_result",
          "data": {
            "text/html": [
              "<div>\n",
              "<style scoped>\n",
              "    .dataframe tbody tr th:only-of-type {\n",
              "        vertical-align: middle;\n",
              "    }\n",
              "\n",
              "    .dataframe tbody tr th {\n",
              "        vertical-align: top;\n",
              "    }\n",
              "\n",
              "    .dataframe thead th {\n",
              "        text-align: right;\n",
              "    }\n",
              "</style>\n",
              "<table border=\"1\" class=\"dataframe\">\n",
              "  <thead>\n",
              "    <tr style=\"text-align: right;\">\n",
              "      <th></th>\n",
              "      <th>load</th>\n",
              "      <th>stress</th>\n",
              "      <th>discharge</th>\n",
              "      <th>charge</th>\n",
              "      <th>capacity</th>\n",
              "    </tr>\n",
              "  </thead>\n",
              "  <tbody>\n",
              "    <tr>\n",
              "      <th>load</th>\n",
              "      <td>1.000000</td>\n",
              "      <td>0.997131</td>\n",
              "      <td>0.112027</td>\n",
              "      <td>-0.410108</td>\n",
              "      <td>0.105698</td>\n",
              "    </tr>\n",
              "    <tr>\n",
              "      <th>stress</th>\n",
              "      <td>0.997131</td>\n",
              "      <td>1.000000</td>\n",
              "      <td>0.103106</td>\n",
              "      <td>-0.399021</td>\n",
              "      <td>0.101859</td>\n",
              "    </tr>\n",
              "    <tr>\n",
              "      <th>discharge</th>\n",
              "      <td>0.112027</td>\n",
              "      <td>0.103106</td>\n",
              "      <td>1.000000</td>\n",
              "      <td>-0.515872</td>\n",
              "      <td>-0.550140</td>\n",
              "    </tr>\n",
              "    <tr>\n",
              "      <th>charge</th>\n",
              "      <td>-0.410108</td>\n",
              "      <td>-0.399021</td>\n",
              "      <td>-0.515872</td>\n",
              "      <td>1.000000</td>\n",
              "      <td>0.194703</td>\n",
              "    </tr>\n",
              "    <tr>\n",
              "      <th>capacity</th>\n",
              "      <td>0.105698</td>\n",
              "      <td>0.101859</td>\n",
              "      <td>-0.550140</td>\n",
              "      <td>0.194703</td>\n",
              "      <td>1.000000</td>\n",
              "    </tr>\n",
              "  </tbody>\n",
              "</table>\n",
              "</div>"
            ],
            "text/plain": [
              "               load    stress  discharge    charge  capacity\n",
              "load       1.000000  0.997131   0.112027 -0.410108  0.105698\n",
              "stress     0.997131  1.000000   0.103106 -0.399021  0.101859\n",
              "discharge  0.112027  0.103106   1.000000 -0.515872 -0.550140\n",
              "charge    -0.410108 -0.399021  -0.515872  1.000000  0.194703\n",
              "capacity   0.105698  0.101859  -0.550140  0.194703  1.000000"
            ]
          },
          "metadata": {
            "tags": []
          },
          "execution_count": 8
        }
      ]
    },
    {
      "cell_type": "code",
      "metadata": {
        "colab": {
          "base_uri": "https://localhost:8080/",
          "height": 204
        },
        "id": "09TQ56Z-49Bm",
        "outputId": "d63f325d-7777-497e-c7bb-0927e3572d2c"
      },
      "source": [
        "data.corr(method=\"kendall\")"
      ],
      "execution_count": null,
      "outputs": [
        {
          "output_type": "execute_result",
          "data": {
            "text/html": [
              "<div>\n",
              "<style scoped>\n",
              "    .dataframe tbody tr th:only-of-type {\n",
              "        vertical-align: middle;\n",
              "    }\n",
              "\n",
              "    .dataframe tbody tr th {\n",
              "        vertical-align: top;\n",
              "    }\n",
              "\n",
              "    .dataframe thead th {\n",
              "        text-align: right;\n",
              "    }\n",
              "</style>\n",
              "<table border=\"1\" class=\"dataframe\">\n",
              "  <thead>\n",
              "    <tr style=\"text-align: right;\">\n",
              "      <th></th>\n",
              "      <th>load</th>\n",
              "      <th>stress</th>\n",
              "      <th>discharge</th>\n",
              "      <th>charge</th>\n",
              "      <th>capacity</th>\n",
              "    </tr>\n",
              "  </thead>\n",
              "  <tbody>\n",
              "    <tr>\n",
              "      <th>load</th>\n",
              "      <td>1.000000</td>\n",
              "      <td>0.817229</td>\n",
              "      <td>0.079266</td>\n",
              "      <td>-0.364900</td>\n",
              "      <td>0.081922</td>\n",
              "    </tr>\n",
              "    <tr>\n",
              "      <th>stress</th>\n",
              "      <td>0.817229</td>\n",
              "      <td>1.000000</td>\n",
              "      <td>0.045845</td>\n",
              "      <td>-0.267798</td>\n",
              "      <td>0.110308</td>\n",
              "    </tr>\n",
              "    <tr>\n",
              "      <th>discharge</th>\n",
              "      <td>0.079266</td>\n",
              "      <td>0.045845</td>\n",
              "      <td>1.000000</td>\n",
              "      <td>-0.482438</td>\n",
              "      <td>-0.403347</td>\n",
              "    </tr>\n",
              "    <tr>\n",
              "      <th>charge</th>\n",
              "      <td>-0.364900</td>\n",
              "      <td>-0.267798</td>\n",
              "      <td>-0.482438</td>\n",
              "      <td>1.000000</td>\n",
              "      <td>0.172178</td>\n",
              "    </tr>\n",
              "    <tr>\n",
              "      <th>capacity</th>\n",
              "      <td>0.081922</td>\n",
              "      <td>0.110308</td>\n",
              "      <td>-0.403347</td>\n",
              "      <td>0.172178</td>\n",
              "      <td>1.000000</td>\n",
              "    </tr>\n",
              "  </tbody>\n",
              "</table>\n",
              "</div>"
            ],
            "text/plain": [
              "               load    stress  discharge    charge  capacity\n",
              "load       1.000000  0.817229   0.079266 -0.364900  0.081922\n",
              "stress     0.817229  1.000000   0.045845 -0.267798  0.110308\n",
              "discharge  0.079266  0.045845   1.000000 -0.482438 -0.403347\n",
              "charge    -0.364900 -0.267798  -0.482438  1.000000  0.172178\n",
              "capacity   0.081922  0.110308  -0.403347  0.172178  1.000000"
            ]
          },
          "metadata": {
            "tags": []
          },
          "execution_count": 9
        }
      ]
    },
    {
      "cell_type": "code",
      "metadata": {
        "colab": {
          "base_uri": "https://localhost:8080/",
          "height": 504
        },
        "id": "Q33AoRsd49Bm",
        "outputId": "bb67cfb1-7407-4ecb-d743-b631293dcbee"
      },
      "source": [
        "f, ax=plt.subplots(figsize=(10,8))\n",
        "corr = data.corr()\n",
        "sns.heatmap(corr, ax=ax, annot = True)"
      ],
      "execution_count": null,
      "outputs": [
        {
          "output_type": "execute_result",
          "data": {
            "text/plain": [
              "<matplotlib.axes._subplots.AxesSubplot at 0x7f4f4f769b10>"
            ]
          },
          "metadata": {
            "tags": []
          },
          "execution_count": 10
        },
        {
          "output_type": "display_data",
          "data": {
            "image/png": "[encoded data removed]",
            "text/plain": [
              "<Figure size 720x576 with 2 Axes>"
            ]
          },
          "metadata": {
            "tags": [],
            "needs_background": "light"
          }
        }
      ]
    },
    {
      "cell_type": "markdown",
      "metadata": {
        "id": "1JX-wH7c49Bn"
      },
      "source": [
        "<h1>Charge Analysis</h1>"
      ]
    },
    {
      "cell_type": "code",
      "metadata": {
        "colab": {
          "base_uri": "https://localhost:8080/",
          "height": 333
        },
        "id": "1jVS5-BM49Bn",
        "outputId": "92c35e81-bd39-4baf-b11f-79c66dbe103a"
      },
      "source": [
        "ax = sns.distplot(data['charge'])"
      ],
      "execution_count": null,
      "outputs": [
        {
          "output_type": "stream",
          "text": [
            "/usr/local/lib/python3.7/dist-packages/seaborn/distributions.py:2557: FutureWarning: `distplot` is a deprecated function and will be removed in a future version. Please adapt your code to use either `displot` (a figure-level function with similar flexibility) or `histplot` (an axes-level function for histograms).\n",
            "  warnings.warn(msg, FutureWarning)\n"
          ],
          "name": "stderr"
        },
        {
          "output_type": "display_data",
          "data": {
            "image/png": "[encoded data removed]",
            "text/plain": [
              "<Figure size 432x288 with 1 Axes>"
            ]
          },
          "metadata": {
            "tags": [],
            "needs_background": "light"
          }
        }
      ]
    },
    {
      "cell_type": "markdown",
      "metadata": {
        "id": "sXPsFS-i49Bo"
      },
      "source": [
        "<h1>Stress Analysis</h1>"
      ]
    },
    {
      "cell_type": "code",
      "metadata": {
        "colab": {
          "base_uri": "https://localhost:8080/",
          "height": 333
        },
        "id": "QXICDUtp49Bo",
        "outputId": "025e586b-ef8c-4660-d0b4-14046d651d02"
      },
      "source": [
        "ax = sns.distplot(data[\"stress\"])"
      ],
      "execution_count": null,
      "outputs": [
        {
          "output_type": "stream",
          "text": [
            "/usr/local/lib/python3.7/dist-packages/seaborn/distributions.py:2557: FutureWarning: `distplot` is a deprecated function and will be removed in a future version. Please adapt your code to use either `displot` (a figure-level function with similar flexibility) or `histplot` (an axes-level function for histograms).\n",
            "  warnings.warn(msg, FutureWarning)\n"
          ],
          "name": "stderr"
        },
        {
          "output_type": "display_data",
          "data": {
            "image/png": "[encoded data removed]",
            "text/plain": [
              "<Figure size 432x288 with 1 Axes>"
            ]
          },
          "metadata": {
            "tags": [],
            "needs_background": "light"
          }
        }
      ]
    },
    {
      "cell_type": "markdown",
      "metadata": {
        "id": "PALv9wZk49Bp"
      },
      "source": [
        "<h1>Splitting Data</h1>"
      ]
    },
    {
      "cell_type": "code",
      "metadata": {
        "id": "JOu4OKQ-49Bp"
      },
      "source": [
        "x = data.drop(data.columns[[4]], axis=1)\n",
        "y=data['capacity']"
      ],
      "execution_count": null,
      "outputs": []
    },
    {
      "cell_type": "code",
      "metadata": {
        "colab": {
          "base_uri": "https://localhost:8080/",
          "height": 204
        },
        "id": "AkFZd7gV49Bp",
        "outputId": "6ad8dc6f-66e7-4bfe-8c4c-95e6e23bf084"
      },
      "source": [
        "x.head()"
      ],
      "execution_count": null,
      "outputs": [
        {
          "output_type": "execute_result",
          "data": {
            "text/html": [
              "<div>\n",
              "<style scoped>\n",
              "    .dataframe tbody tr th:only-of-type {\n",
              "        vertical-align: middle;\n",
              "    }\n",
              "\n",
              "    .dataframe tbody tr th {\n",
              "        vertical-align: top;\n",
              "    }\n",
              "\n",
              "    .dataframe thead th {\n",
              "        text-align: right;\n",
              "    }\n",
              "</style>\n",
              "<table border=\"1\" class=\"dataframe\">\n",
              "  <thead>\n",
              "    <tr style=\"text-align: right;\">\n",
              "      <th></th>\n",
              "      <th>load</th>\n",
              "      <th>stress</th>\n",
              "      <th>discharge</th>\n",
              "      <th>charge</th>\n",
              "    </tr>\n",
              "  </thead>\n",
              "  <tbody>\n",
              "    <tr>\n",
              "      <th>0</th>\n",
              "      <td>3</td>\n",
              "      <td>5.175</td>\n",
              "      <td>3.433</td>\n",
              "      <td>4.173</td>\n",
              "    </tr>\n",
              "    <tr>\n",
              "      <th>1</th>\n",
              "      <td>3</td>\n",
              "      <td>5.233</td>\n",
              "      <td>3.437</td>\n",
              "      <td>4.172</td>\n",
              "    </tr>\n",
              "    <tr>\n",
              "      <th>2</th>\n",
              "      <td>3</td>\n",
              "      <td>5.283</td>\n",
              "      <td>3.430</td>\n",
              "      <td>4.176</td>\n",
              "    </tr>\n",
              "    <tr>\n",
              "      <th>3</th>\n",
              "      <td>3</td>\n",
              "      <td>5.312</td>\n",
              "      <td>3.435</td>\n",
              "      <td>4.177</td>\n",
              "    </tr>\n",
              "    <tr>\n",
              "      <th>4</th>\n",
              "      <td>3</td>\n",
              "      <td>5.358</td>\n",
              "      <td>3.434</td>\n",
              "      <td>4.175</td>\n",
              "    </tr>\n",
              "  </tbody>\n",
              "</table>\n",
              "</div>"
            ],
            "text/plain": [
              "   load  stress  discharge  charge\n",
              "0     3   5.175      3.433   4.173\n",
              "1     3   5.233      3.437   4.172\n",
              "2     3   5.283      3.430   4.176\n",
              "3     3   5.312      3.435   4.177\n",
              "4     3   5.358      3.434   4.175"
            ]
          },
          "metadata": {
            "tags": []
          },
          "execution_count": 14
        }
      ]
    },
    {
      "cell_type": "code",
      "metadata": {
        "id": "HzzngFQ149Bq"
      },
      "source": [
        "#splitting into training and testing data\n",
        "from sklearn.model_selection import train_test_split\n",
        "xtrain, xtest, ytrain, ytest = train_test_split(x, y, test_size = 0.20, random_state=0)"
      ],
      "execution_count": null,
      "outputs": []
    },
    {
      "cell_type": "markdown",
      "metadata": {
        "id": "1ofl7Hj049Bq"
      },
      "source": [
        "<h1>Feature Scaling</h1>"
      ]
    },
    {
      "cell_type": "code",
      "metadata": {
        "id": "HuLF04b149Br"
      },
      "source": [
        "from sklearn.preprocessing import MinMaxScaler\n",
        "\n",
        "sc_x = MinMaxScaler()\n",
        "xtrain = sc_x.fit_transform(xtrain)\n",
        "xtest = sc_x.fit_transform(xtest)"
      ],
      "execution_count": null,
      "outputs": []
    },
    {
      "cell_type": "code",
      "metadata": {
        "colab": {
          "base_uri": "https://localhost:8080/"
        },
        "id": "WCehaCoF49Br",
        "outputId": "1e9a836d-8c72-4f3e-ec0f-1e17120181d5"
      },
      "source": [
        "xtrain[0:2]"
      ],
      "execution_count": null,
      "outputs": [
        {
          "output_type": "execute_result",
          "data": {
            "text/plain": [
              "array([[1.        , 0.99700704, 0.88888889, 0.5       ],\n",
              "       [0.        , 0.08538732, 0.59259259, 0.92857143]])"
            ]
          },
          "metadata": {
            "tags": []
          },
          "execution_count": 17
        }
      ]
    },
    {
      "cell_type": "markdown",
      "metadata": {
        "id": "UgFtdmrz49Bs"
      },
      "source": [
        "<h1>ML Models</h1>"
      ]
    },
    {
      "cell_type": "code",
      "metadata": {
        "id": "jsGI-6aT49Bs"
      },
      "source": [
        "linear = LinearRegression()\n",
        "dt = DecisionTreeRegressor()\n",
        "svr = svm.SVR()\n",
        "rf = RandomForestRegressor()"
      ],
      "execution_count": null,
      "outputs": []
    },
    {
      "cell_type": "code",
      "metadata": {
        "colab": {
          "base_uri": "https://localhost:8080/"
        },
        "id": "vEbFkWI249Bs",
        "outputId": "72dbf2f5-e7b6-407e-8a84-0362bc81cdfc"
      },
      "source": [
        "linear.fit(xtrain, ytrain)"
      ],
      "execution_count": null,
      "outputs": [
        {
          "output_type": "execute_result",
          "data": {
            "text/plain": [
              "LinearRegression(copy_X=True, fit_intercept=True, n_jobs=None, normalize=False)"
            ]
          },
          "metadata": {
            "tags": []
          },
          "execution_count": 19
        }
      ]
    },
    {
      "cell_type": "code",
      "metadata": {
        "colab": {
          "base_uri": "https://localhost:8080/"
        },
        "id": "bU7DCD-I49Bt",
        "outputId": "e6f4b181-7a09-4de5-bf60-9895375e6b89"
      },
      "source": [
        "dt.fit(xtrain, ytrain)"
      ],
      "execution_count": null,
      "outputs": [
        {
          "output_type": "execute_result",
          "data": {
            "text/plain": [
              "DecisionTreeRegressor(ccp_alpha=0.0, criterion='mse', max_depth=None,\n",
              "                      max_features=None, max_leaf_nodes=None,\n",
              "                      min_impurity_decrease=0.0, min_impurity_split=None,\n",
              "                      min_samples_leaf=1, min_samples_split=2,\n",
              "                      min_weight_fraction_leaf=0.0, presort='deprecated',\n",
              "                      random_state=None, splitter='best')"
            ]
          },
          "metadata": {
            "tags": []
          },
          "execution_count": 20
        }
      ]
    },
    {
      "cell_type": "code",
      "metadata": {
        "colab": {
          "base_uri": "https://localhost:8080/"
        },
        "id": "uJ7b1ZDl49Bt",
        "outputId": "3eac6bcc-14fa-4773-bc00-d47d9773c257"
      },
      "source": [
        "svr.fit(xtrain, ytrain)"
      ],
      "execution_count": null,
      "outputs": [
        {
          "output_type": "execute_result",
          "data": {
            "text/plain": [
              "SVR(C=1.0, cache_size=200, coef0=0.0, degree=3, epsilon=0.1, gamma='scale',\n",
              "    kernel='rbf', max_iter=-1, shrinking=True, tol=0.001, verbose=False)"
            ]
          },
          "metadata": {
            "tags": []
          },
          "execution_count": 21
        }
      ]
    },
    {
      "cell_type": "code",
      "metadata": {
        "colab": {
          "base_uri": "https://localhost:8080/"
        },
        "id": "kAXzE7D449Bu",
        "outputId": "a57c2984-2c8d-40ca-904b-c8d1d87182c1"
      },
      "source": [
        "rf.fit(xtrain, ytrain)"
      ],
      "execution_count": null,
      "outputs": [
        {
          "output_type": "execute_result",
          "data": {
            "text/plain": [
              "RandomForestRegressor(bootstrap=True, ccp_alpha=0.0, criterion='mse',\n",
              "                      max_depth=None, max_features='auto', max_leaf_nodes=None,\n",
              "                      max_samples=None, min_impurity_decrease=0.0,\n",
              "                      min_impurity_split=None, min_samples_leaf=1,\n",
              "                      min_samples_split=2, min_weight_fraction_leaf=0.0,\n",
              "                      n_estimators=100, n_jobs=None, oob_score=False,\n",
              "                      random_state=None, verbose=0, warm_start=False)"
            ]
          },
          "metadata": {
            "tags": []
          },
          "execution_count": 22
        }
      ]
    },
    {
      "cell_type": "markdown",
      "metadata": {
        "id": "SrOAA_pi5wcR"
      },
      "source": [
        "<h1>Prediction</h1>"
      ]
    },
    {
      "cell_type": "code",
      "metadata": {
        "id": "0z9GnEJG52OF"
      },
      "source": [
        "y_pred_linear = linear.predict(xtest)\n",
        "y_pred_dt = dt.predict(xtest)\n",
        "y_pred_svr = svr.predict(xtest)\n",
        "y_pred_rf = rf.predict(xtest)"
      ],
      "execution_count": null,
      "outputs": []
    },
    {
      "cell_type": "markdown",
      "metadata": {
        "id": "UkIq4TI7-8SC"
      },
      "source": [
        "<h1>RMSE error</h1>"
      ]
    },
    {
      "cell_type": "code",
      "metadata": {
        "id": "RIuuVzJq_Fbs"
      },
      "source": [
        "import math\n",
        "error_linear = math.sqrt(mean_squared_error((y_pred_linear), ytest))\n",
        "error_dt = math.sqrt(mean_squared_error((y_pred_dt), ytest))\n",
        "error_svr = math.sqrt(mean_squared_error((y_pred_svr), ytest))\n",
        "error_rf = math.sqrt(mean_squared_error((y_pred_rf), ytest))"
      ],
      "execution_count": null,
      "outputs": []
    },
    {
      "cell_type": "code",
      "metadata": {
        "colab": {
          "base_uri": "https://localhost:8080/"
        },
        "id": "D6wlyMZyAM2D",
        "outputId": "2ee8c9d1-cbf8-4eb5-a90e-dd881c4110fa"
      },
      "source": [
        "print(\"       Model      :   RMSE Error\\n\")\n",
        "print(\"Linear Regression : \", error_linear)\n",
        "print(\"Decision Tree     :  \", error_dt)\n",
        "print(\"Support Vector    : \", error_svr)\n",
        "print(\"Random Forest     : \", error_rf)"
      ],
      "execution_count": null,
      "outputs": [
        {
          "output_type": "stream",
          "text": [
            "       Model      :   RMSE Error\n",
            "\n",
            "Linear Regression :  0.03135016425094677\n",
            "Decision Tree     :   0.03458083771902291\n",
            "Support Vector    :  0.03410804060239953\n",
            "Random Forest     :  0.030941058217907748\n"
          ],
          "name": "stdout"
        }
      ]
    },
    {
      "cell_type": "code",
      "metadata": {
        "colab": {
          "base_uri": "https://localhost:8080/"
        },
        "id": "QJAtySOZGUCW",
        "outputId": "b9fb8756-f9d4-4782-f86f-b8fb4fb8b0e5"
      },
      "source": [
        "y.shape , y_pred_linear.shape"
      ],
      "execution_count": null,
      "outputs": [
        {
          "output_type": "execute_result",
          "data": {
            "text/plain": [
              "((413,), (83,))"
            ]
          },
          "metadata": {
            "tags": []
          },
          "execution_count": 26
        }
      ]
    },
    {
      "cell_type": "code",
      "metadata": {
        "id": "5YS9-YzDCxcY",
        "colab": {
          "base_uri": "https://localhost:8080/",
          "height": 296
        },
        "outputId": "bd8953dc-d67d-4fe6-b73f-0e44f670e1e3"
      },
      "source": [
        "sns.regplot(x = ytest , y = y_pred_linear )"
      ],
      "execution_count": null,
      "outputs": [
        {
          "output_type": "execute_result",
          "data": {
            "text/plain": [
              "<matplotlib.axes._subplots.AxesSubplot at 0x7f4f2d29cc90>"
            ]
          },
          "metadata": {
            "tags": []
          },
          "execution_count": 27
        },
        {
          "output_type": "display_data",
          "data": {
            "image/png": "[encoded data removed]",
            "text/plain": [
              "<Figure size 432x288 with 1 Axes>"
            ]
          },
          "metadata": {
            "tags": [],
            "needs_background": "light"
          }
        }
      ]
    },
    {
      "cell_type": "code",
      "metadata": {
        "id": "DIgjKlEKDXFD",
        "colab": {
          "base_uri": "https://localhost:8080/"
        },
        "outputId": "6c3634ef-0765-4c87-af9a-56bba45f5219"
      },
      "source": [
        "from sklearn.metrics import r2_score\n",
        "print(\"R_2 linear\" , r2_score(ytrain, linear.predict(xtrain)))\n",
        "print(\"R_2 linear\" , r2_score(ytrain, linear.predict(xtrain)))\n",
        "print(\"R_2 linear\" , r2_score(ytrain, linear.predict(xtrain)))\n",
        "print(\"R_2 linear\" , r2_score(ytrain, linear.predict(xtrain)))\n"
      ],
      "execution_count": null,
      "outputs": [
        {
          "output_type": "stream",
          "text": [
            "R_2 linear 0.3777870305240463\n",
            "R_2 linear 0.3777870305240463\n",
            "R_2 linear 0.3777870305240463\n",
            "R_2 linear 0.3777870305240463\n"
          ],
          "name": "stdout"
        }
      ]
    },
    {
      "cell_type": "code",
      "metadata": {
        "colab": {
          "base_uri": "https://localhost:8080/"
        },
        "id": "3QzTOUaEH0Yn",
        "outputId": "29313ab1-67fc-4931-c143-c9ebb0536073"
      },
      "source": [
        "print(\"       Model      :   r_2 score\\n\")\n",
        "print(\"Linear Regression : \", r2_score(ytrain, linear.predict(xtrain)))\n",
        "print(\"Decision Tree     :  \", r2_score(ytrain, dt.predict(xtrain)))\n",
        "print(\"Support Vector    : \", r2_score(ytrain, svr.predict(xtrain)))\n",
        "print(\"Random Forest     : \", r2_score(ytrain, rf.predict(xtrain)))"
      ],
      "execution_count": null,
      "outputs": [
        {
          "output_type": "stream",
          "text": [
            "       Model      :   r_2 score\n",
            "\n",
            "Linear Regression :  0.3777870305240463\n",
            "Decision Tree     :   0.9998594302186563\n",
            "Support Vector    :  -0.008461455352893665\n",
            "Random Forest     :  0.9864220913904405\n"
          ],
          "name": "stdout"
        }
      ]
    },
    {
      "cell_type": "code",
      "metadata": {
        "id": "wTwWrCExJDjK",
        "colab": {
          "base_uri": "https://localhost:8080/"
        },
        "outputId": "91140863-d387-4a41-9ec1-452bdf79a9c8"
      },
      "source": [
        "print(\"Linear Regression : \", r2_score(ytrain, linear.predict(xtrain)))\n",
        "print(\"Decision Tree     :  \", r2_score(ytrain, dt.predict(xtrain)))\n",
        "print(\"Support Vector    : \", r2_score(ytrain, svr.predict(xtrain)))\n",
        "print(\"Random Forest     : \", r2_score(ytrain, rf.predict(xtrain)))"
      ],
      "execution_count": null,
      "outputs": [
        {
          "output_type": "stream",
          "text": [
            "Linear Regression :  0.3777870305240463\n",
            "Decision Tree     :   0.9998594302186563\n",
            "Support Vector    :  -0.008461455352893665\n",
            "Random Forest     :  0.9864220913904405\n"
          ],
          "name": "stdout"
        }
      ]
    },
    {
      "cell_type": "code",
      "metadata": {
        "id": "qY6pDWFaH1fj",
        "colab": {
          "base_uri": "https://localhost:8080/",
          "height": 296
        },
        "outputId": "8ee8ca97-71c5-4396-bb75-84b4f3c2b480"
      },
      "source": [
        "sns.regplot(x = ytest , y = y_pred_dt)"
      ],
      "execution_count": null,
      "outputs": [
        {
          "output_type": "execute_result",
          "data": {
            "text/plain": [
              "<matplotlib.axes._subplots.AxesSubplot at 0x7f4f2d28cc50>"
            ]
          },
          "metadata": {
            "tags": []
          },
          "execution_count": 31
        },
        {
          "output_type": "display_data",
          "data": {
            "image/png": "[encoded data removed]",
            "text/plain": [
              "<Figure size 432x288 with 1 Axes>"
            ]
          },
          "metadata": {
            "tags": [],
            "needs_background": "light"
          }
        }
      ]
    },
    {
      "cell_type": "code",
      "metadata": {
        "colab": {
          "base_uri": "https://localhost:8080/",
          "height": 307
        },
        "id": "ScwsuLIJOPmo",
        "outputId": "684ff55c-88cb-48c0-80b8-56a887600914"
      },
      "source": [
        "sns.regplot(x = ytest , y = y_pred_svr)"
      ],
      "execution_count": null,
      "outputs": [
        {
          "output_type": "execute_result",
          "data": {
            "text/plain": [
              "<matplotlib.axes._subplots.AxesSubplot at 0x7f4f2d1ca650>"
            ]
          },
          "metadata": {
            "tags": []
          },
          "execution_count": 32
        },
        {
          "output_type": "display_data",
          "data": {
            "image/png": "[encoded data removed]",
            "text/plain": [
              "<Figure size 432x288 with 1 Axes>"
            ]
          },
          "metadata": {
            "tags": [],
            "needs_background": "light"
          }
        }
      ]
    },
    {
      "cell_type": "code",
      "metadata": {
        "colab": {
          "base_uri": "https://localhost:8080/",
          "height": 296
        },
        "id": "CPf5MahDOWMc",
        "outputId": "164e8844-858c-4804-ef0f-0f9720656ccb"
      },
      "source": [
        "sns.regplot(x = ytest , y = y_pred_rf )"
      ],
      "execution_count": null,
      "outputs": [
        {
          "output_type": "execute_result",
          "data": {
            "text/plain": [
              "<matplotlib.axes._subplots.AxesSubplot at 0x7f4f2d13bd10>"
            ]
          },
          "metadata": {
            "tags": []
          },
          "execution_count": 33
        },
        {
          "output_type": "display_data",
          "data": {
            "image/png": "[encoded data removed]",
            "text/plain": [
              "<Figure size 432x288 with 1 Axes>"
            ]
          },
          "metadata": {
            "tags": [],
            "needs_background": "light"
          }
        }
      ]
    },
    {
      "cell_type": "code",
      "metadata": {
        "colab": {
          "base_uri": "https://localhost:8080/"
        },
        "id": "XplIfWtghQsp",
        "outputId": "067a1b02-cd71-4056-f447-cffe5ef59a82"
      },
      "source": [
        "ytest.shape"
      ],
      "execution_count": null,
      "outputs": [
        {
          "output_type": "execute_result",
          "data": {
            "text/plain": [
              "(83,)"
            ]
          },
          "metadata": {
            "tags": []
          },
          "execution_count": 34
        }
      ]
    },
    {
      "cell_type": "code",
      "metadata": {
        "colab": {
          "base_uri": "https://localhost:8080/"
        },
        "id": "4dRQz7sthcCL",
        "outputId": "69315dcf-cd8d-4d57-abda-270903882ca2"
      },
      "source": [
        "xtest.shape"
      ],
      "execution_count": null,
      "outputs": [
        {
          "output_type": "execute_result",
          "data": {
            "text/plain": [
              "(83, 4)"
            ]
          },
          "metadata": {
            "tags": []
          },
          "execution_count": 35
        }
      ]
    },
    {
      "cell_type": "code",
      "metadata": {
        "colab": {
          "base_uri": "https://localhost:8080/"
        },
        "id": "Tpm04U9Nhh77",
        "outputId": "3faf2e72-b688-45fa-fe29-609205f18ebe"
      },
      "source": [
        "print(sum(abs(ytest-y_pred_rf))/83)"
      ],
      "execution_count": null,
      "outputs": [
        {
          "output_type": "stream",
          "text": [
            "0.023203943775100714\n"
          ],
          "name": "stdout"
        }
      ]
    }
  ]
}